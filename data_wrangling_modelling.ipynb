{
 "cells": [
  {
   "cell_type": "markdown",
   "metadata": {
    "application/vnd.databricks.v1+cell": {
     "cellMetadata": {},
     "inputWidgets": {},
     "nuid": "4f106ef3-91c8-49f3-9bef-f0284ce89f98",
     "showTitle": false,
     "tableResultSettingsMap": {},
     "title": ""
    }
   },
   "source": [
    "### Perguntas\n",
    "- Pergunta principal: Qual é a diferença de uso das bicicletas pelos **clientes casuais e anuais (membros)**?\n",
    "- Perguntas específicas:\n",
    "> - Qual é a média de duração da locação das bicicletas?\n",
    "> - Quais são os dias da semana com a maior/menor quantidade de locações?\n",
    "> - Qual é o total de clientes por dia, mês e ano?\n",
    "> - Quais são os tipos de bicicleta mais alugados?\n",
    "> - Quais são as estações mais utilizadas?\n",
    "> - Qual é a localização geográfica das retiradas e devoluções?\n",
    "> - Quais são os horários do dia com maiores locações e devoluções?"
   ]
  },
  {
   "cell_type": "markdown",
   "metadata": {
    "application/vnd.databricks.v1+cell": {
     "cellMetadata": {},
     "inputWidgets": {},
     "nuid": "8a6dc7ca-fcbd-46db-9c3d-33103d58bc2f",
     "showTitle": false,
     "tableResultSettingsMap": {},
     "title": ""
    }
   },
   "source": [
    "### Upload dos dados (.csv)\n",
    "- Todos os arquivos (datasets) foram carregados para um volume dentro do banco de dados (portfolio_citybikes)\n",
    "- Posteriormente, foram criadas tabelas em lotes de 10 em 10 de maneira manual através da interface do Databricks (/Volumes/)\n",
    "- A tabela com o modelo de esquema foi criada inicialmente a partir do arquivo \"divvy_trips_2020_q_1.csv\""
   ]
  },
  {
   "cell_type": "code",
   "execution_count": 0,
   "metadata": {
    "application/vnd.databricks.v1+cell": {
     "cellMetadata": {
      "byteLimit": 2048000,
      "rowLimit": 10000
     },
     "inputWidgets": {},
     "nuid": "9fcf5f7a-ad26-426e-8273-0ccc807688a0",
     "showTitle": true,
     "tableResultSettingsMap": {},
     "title": "CREATE TABLE"
    }
   },
   "outputs": [],
   "source": [
    "-- Criação da tabela modelo com dados iniciais e alteração de alguns tipos de dados\n",
    "-- Esta tabela será a base para a tabela fonte com todos os dados consolidados (jan2020 até jul2025)\n",
    "CREATE TABLE workspace.portfolio_citybikes.tabela_fonte_consolidada AS\n",
    "SELECT\n",
    "  ride_id,\n",
    "  rideable_type,\n",
    "  started_at,\n",
    "  ended_at,\n",
    "  start_station_name,\n",
    "  CAST(start_station_id AS STRING),\n",
    "  end_station_name,\n",
    "  CAST(end_station_id AS STRING),\n",
    "  start_lat,\n",
    "  start_lng,\n",
    "  end_lat,\n",
    "  end_lng,\n",
    "  member_casual,\n",
    "  _rescued_data\n",
    "  FROM workspace.portfolio_citybikes.divvy_trips_2020_q_1"
   ]
  },
  {
   "cell_type": "markdown",
   "metadata": {
    "application/vnd.databricks.v1+cell": {
     "cellMetadata": {
      "byteLimit": 2048000,
      "rowLimit": 10000
     },
     "inputWidgets": {},
     "nuid": "ee5cc54f-14c4-46b0-853f-729662732e9d",
     "showTitle": false,
     "tableResultSettingsMap": {},
     "title": ""
    }
   },
   "source": [
    "### Adição de dados na tabela modelo"
   ]
  },
  {
   "cell_type": "code",
   "execution_count": 0,
   "metadata": {
    "application/vnd.databricks.v1+cell": {
     "cellMetadata": {
      "byteLimit": 2048000,
      "rowLimit": 10000
     },
     "inputWidgets": {},
     "nuid": "d22552c4-a658-4609-a5fa-0eeb35b5f9bd",
     "showTitle": true,
     "tableResultSettingsMap": {},
     "title": "INSERT INTO"
    }
   },
   "outputs": [],
   "source": [
    "-- Inclusão de dados na tabela fonte (abr2020 até jan2021)\n",
    "INSERT INTO workspace.portfolio_citybikes.tabela_fonte_consolidada\n",
    "TABLE workspace.portfolio_citybikes.202004_202101"
   ]
  },
  {
   "cell_type": "code",
   "execution_count": 0,
   "metadata": {
    "application/vnd.databricks.v1+cell": {
     "cellMetadata": {
      "byteLimit": 2048000,
      "rowLimit": 10000
     },
     "inputWidgets": {},
     "nuid": "06010b58-028b-419d-a936-026864ff6896",
     "showTitle": true,
     "tableResultSettingsMap": {},
     "title": "INSERT INTO"
    }
   },
   "outputs": [],
   "source": [
    "-- Inclusão de dados na tabela fonte (fev2021 até nov2021)\n",
    "INSERT INTO workspace.portfolio_citybikes.tabela_fonte_consolidada\n",
    "TABLE workspace.portfolio_citybikes.202102_202111"
   ]
  },
  {
   "cell_type": "code",
   "execution_count": 0,
   "metadata": {
    "application/vnd.databricks.v1+cell": {
     "cellMetadata": {
      "byteLimit": 2048000,
      "rowLimit": 10000
     },
     "inputWidgets": {},
     "nuid": "9f3537ff-9bf2-404f-a1c9-62aee0d782a6",
     "showTitle": true,
     "tableResultSettingsMap": {},
     "title": "INSERT INTO"
    }
   },
   "outputs": [],
   "source": [
    "-- Inclusão de dados na tabela fonte (dez2021 até set2022)\n",
    "INSERT INTO workspace.portfolio_citybikes.tabela_fonte_consolidada\n",
    "TABLE workspace.portfolio_citybikes.202112_202209"
   ]
  },
  {
   "cell_type": "code",
   "execution_count": 0,
   "metadata": {
    "application/vnd.databricks.v1+cell": {
     "cellMetadata": {
      "byteLimit": 2048000,
      "rowLimit": 10000
     },
     "inputWidgets": {},
     "nuid": "c483d46a-4102-43b3-99d2-68e30fdd27b9",
     "showTitle": true,
     "tableResultSettingsMap": {},
     "title": "INSERT INTO"
    }
   },
   "outputs": [],
   "source": [
    "-- Inclusão de dados na tabela fonte (out2022 até jul2023)\n",
    "INSERT INTO workspace.portfolio_citybikes.tabela_fonte_consolidada\n",
    "TABLE workspace.portfolio_citybikes.202210_202307"
   ]
  },
  {
   "cell_type": "code",
   "execution_count": 0,
   "metadata": {
    "application/vnd.databricks.v1+cell": {
     "cellMetadata": {
      "byteLimit": 2048000,
      "rowLimit": 10000
     },
     "inputWidgets": {},
     "nuid": "2a01a751-230a-44e1-b97d-fba914b5f561",
     "showTitle": true,
     "tableResultSettingsMap": {},
     "title": "INSERT INTO"
    }
   },
   "outputs": [],
   "source": [
    "-- Inclusão de dados na tabela fonte (ago2023 até mai2024)\n",
    "INSERT INTO workspace.portfolio_citybikes.tabela_fonte_consolidada\n",
    "TABLE workspace.portfolio_citybikes.202308_202405"
   ]
  },
  {
   "cell_type": "code",
   "execution_count": 0,
   "metadata": {
    "application/vnd.databricks.v1+cell": {
     "cellMetadata": {
      "byteLimit": 2048000,
      "rowLimit": 10000
     },
     "inputWidgets": {},
     "nuid": "2b159906-4d78-47b3-b956-0e2aa9a406b1",
     "showTitle": true,
     "tableResultSettingsMap": {},
     "title": "INSERT INTO"
    }
   },
   "outputs": [],
   "source": [
    "-- Inclusão de dados na tabela fonte (jun2024 até mar2025)\n",
    "INSERT INTO workspace.portfolio_citybikes.tabela_fonte_consolidada\n",
    "TABLE workspace.portfolio_citybikes.202406_202503"
   ]
  },
  {
   "cell_type": "code",
   "execution_count": 0,
   "metadata": {
    "application/vnd.databricks.v1+cell": {
     "cellMetadata": {
      "byteLimit": 2048000,
      "rowLimit": 10000
     },
     "inputWidgets": {},
     "nuid": "0be69b8f-128b-46a1-948c-8bd52a099af0",
     "showTitle": true,
     "tableResultSettingsMap": {},
     "title": "INSERT INTO"
    }
   },
   "outputs": [],
   "source": [
    "-- Inclusão de dados na tabela fonte (abr2025 até jul2025)\n",
    "INSERT INTO workspace.portfolio_citybikes.tabela_fonte_consolidada\n",
    "TABLE workspace.portfolio_citybikes.202504_202507"
   ]
  },
  {
   "cell_type": "markdown",
   "metadata": {
    "application/vnd.databricks.v1+cell": {
     "cellMetadata": {
      "byteLimit": 2048000,
      "rowLimit": 10000
     },
     "inputWidgets": {},
     "nuid": "8f533ab7-1694-49d7-96ff-6830e11f374c",
     "showTitle": false,
     "tableResultSettingsMap": {},
     "title": ""
    }
   },
   "source": [
    "### Verificação de linhas\n",
    "Verificação da quantidade original de linhas e posteriormente à execução do comando INSERT INTO para a tabela_fonte_consolidada"
   ]
  },
  {
   "cell_type": "code",
   "execution_count": 0,
   "metadata": {
    "application/vnd.databricks.v1+cell": {
     "cellMetadata": {
      "byteLimit": 2048000,
      "rowLimit": 10000
     },
     "inputWidgets": {},
     "nuid": "80e3bdf9-24c8-4a93-b822-997c49fc947b",
     "showTitle": true,
     "tableResultSettingsMap": {},
     "title": "check_data"
    }
   },
   "outputs": [],
   "source": [
    "-- Garantindo que não existe nenhum valor nulo na coluna ride_id\n",
    "SELECT ride_id\n",
    "FROM workspace.portfolio_citybikes.tabela_fonte_consolidada\n",
    "WHERE ride_id IS NULL"
   ]
  },
  {
   "cell_type": "code",
   "execution_count": 0,
   "metadata": {
    "application/vnd.databricks.v1+cell": {
     "cellMetadata": {
      "byteLimit": 2048000,
      "rowLimit": 10000
     },
     "inputWidgets": {},
     "nuid": "358fcfa6-9a1a-4d62-908a-a0900bc53858",
     "showTitle": true,
     "tableResultSettingsMap": {},
     "title": "check_data"
    }
   },
   "outputs": [],
   "source": [
    "-- Contagem do total de linhas da tabela fonte consolidada (verificação)\n",
    "SELECT COUNT(ride_id)\n",
    "FROM workspace.portfolio_citybikes.tabela_fonte_consolidada"
   ]
  },
  {
   "cell_type": "code",
   "execution_count": 0,
   "metadata": {
    "application/vnd.databricks.v1+cell": {
     "cellMetadata": {
      "byteLimit": 2048000,
      "rowLimit": 10000
     },
     "inputWidgets": {},
     "nuid": "e1a6e123-35c5-45f0-9853-315bc452a94f",
     "showTitle": true,
     "tableResultSettingsMap": {},
     "title": "CTE_check_data"
    }
   },
   "outputs": [],
   "source": [
    "-- Contagem total utilizando CTE para verificação\n",
    "WITH contagem_linhas AS (\n",
    "  SELECT ride_id\n",
    "  FROM workspace.portfolio_citybikes.divvy_trips_2020_q_1\n",
    "  UNION ALL\n",
    "  SELECT ride_id\n",
    "  FROM workspace.portfolio_citybikes.202004_202101\n",
    "  UNION ALL\n",
    "  SELECT ride_id\n",
    "  FROM workspace.portfolio_citybikes.202102_202111\n",
    "  UNION ALL\n",
    "  SELECT ride_id\n",
    "  FROM workspace.portfolio_citybikes.202112_202209\n",
    "  UNION ALL\n",
    "  SELECT ride_id\n",
    "  FROM workspace.portfolio_citybikes.202210_202307\n",
    "  UNION ALL\n",
    "  SELECT ride_id\n",
    "  FROM workspace.portfolio_citybikes.202308_202405\n",
    "  UNION ALL\n",
    "  SELECT ride_id\n",
    "  FROM workspace.portfolio_citybikes.202406_202503\n",
    "  UNION ALL\n",
    "  SELECT ride_id\n",
    "  FROM workspace.portfolio_citybikes.202504_202507\n",
    ")\n",
    "SELECT COUNT(ride_id)\n",
    "FROM contagem_linhas"
   ]
  },
  {
   "cell_type": "markdown",
   "metadata": {
    "application/vnd.databricks.v1+cell": {
     "cellMetadata": {},
     "inputWidgets": {},
     "nuid": "357daff7-2b75-41ae-b282-4dd1c5dd2228",
     "showTitle": false,
     "tableResultSettingsMap": {},
     "title": ""
    }
   },
   "source": [
    "### Modelagem SQL\n",
    "- fact_rides\n",
    "> - ride_id\n",
    "> - start_lat\n",
    "> - start_lng\n",
    "> - end_lat\n",
    "> - end_lng\n",
    "> - started_at\n",
    "> - ended_at\n",
    "> - start_station_fk\n",
    "> - end_station_fk\n",
    "> - duracao_locacao: coluna calculada (started_at - ended_at)\n",
    "> - dia_semana_retirada: coluna calculada (WEEKDAY)\n",
    "> - dia_semana_devolucao: coluna calculada (WEEKDAY)\n",
    "> - hora_retirada: coluna calculada (HOUR)\n",
    "> - hora_devolucao: coluna calculada (HOUR)\n",
    "> - rideable_type_fk\n",
    "> - member_casual_fk\n",
    "- dim_rideable_type\n",
    "- dim_start_station\n",
    "- dim_end_station\n",
    "- dim_member_casual"
   ]
  },
  {
   "cell_type": "code",
   "execution_count": 0,
   "metadata": {
    "application/vnd.databricks.v1+cell": {
     "cellMetadata": {
      "byteLimit": 2048000,
      "rowLimit": 10000
     },
     "inputWidgets": {},
     "nuid": "07249ac3-b00c-450a-ae60-7b8e51b919ac",
     "showTitle": true,
     "tableResultSettingsMap": {},
     "title": "CREATE dim_rideable_type"
    }
   },
   "outputs": [],
   "source": [
    "-- Criação de tabela de dimensão (tipo de bicicleta)\n",
    "CREATE OR REPLACE TABLE workspace.portfolio_citybikes.dim_rideable_type AS\n",
    "SELECT\n",
    "  ROW_NUMBER() OVER (ORDER BY rideable_type) AS id_rideable_type,\n",
    "  rideable_type\n",
    "FROM\n",
    "  (SELECT DISTINCT rideable_type FROM workspace.portfolio_citybikes.tabela_fonte_consolidada)"
   ]
  },
  {
   "cell_type": "code",
   "execution_count": 0,
   "metadata": {
    "application/vnd.databricks.v1+cell": {
     "cellMetadata": {
      "byteLimit": 2048000,
      "rowLimit": 10000
     },
     "inputWidgets": {},
     "nuid": "118247c9-5ce7-40b8-b265-fe80cc1d3566",
     "showTitle": true,
     "tableResultSettingsMap": {},
     "title": "SELECT dim_rideable_type"
    }
   },
   "outputs": [],
   "source": [
    "-- Verificação da tabela criada\n",
    "SELECT *\n",
    "FROM workspace.portfolio_citybikes.dim_rideable_type"
   ]
  },
  {
   "cell_type": "code",
   "execution_count": 0,
   "metadata": {
    "application/vnd.databricks.v1+cell": {
     "cellMetadata": {
      "byteLimit": 2048000,
      "rowLimit": 10000
     },
     "inputWidgets": {},
     "nuid": "90b6f41e-c8d2-4ddb-90d9-f6828da9e33c",
     "showTitle": true,
     "tableResultSettingsMap": {},
     "title": "DESCRIBE dim_rideable_type"
    }
   },
   "outputs": [],
   "source": [
    "-- Verificação do data_type da tabela criada\n",
    "DESCRIBE TABLE workspace.portfolio_citybikes.dim_rideable_type"
   ]
  },
  {
   "cell_type": "code",
   "execution_count": 0,
   "metadata": {
    "application/vnd.databricks.v1+cell": {
     "cellMetadata": {
      "byteLimit": 2048000,
      "rowLimit": 10000
     },
     "inputWidgets": {},
     "nuid": "d8a5ed9c-f4af-4504-8fca-6159ed6bc381",
     "showTitle": true,
     "tableResultSettingsMap": {},
     "title": "CREATE dim_start_station"
    }
   },
   "outputs": [],
   "source": [
    "-- Criação de tabela de dimensão (estação inicial)\n",
    "CREATE OR REPLACE TABLE workspace.portfolio_citybikes.dim_start_station AS\n",
    "SELECT\n",
    "  ROW_NUMBER() OVER (ORDER BY start_station_name) AS start_station_id,\n",
    "  start_station_name\n",
    "FROM (SELECT DISTINCT start_station_name FROM workspace.portfolio_citybikes.tabela_fonte_consolidada)\n",
    "WHERE\n",
    "  start_station_name IS NOT NULL"
   ]
  },
  {
   "cell_type": "code",
   "execution_count": 0,
   "metadata": {
    "application/vnd.databricks.v1+cell": {
     "cellMetadata": {
      "byteLimit": 2048000,
      "rowLimit": 10000
     },
     "inputWidgets": {},
     "nuid": "257944a3-5837-4abb-9bca-eae4ff6a8d5f",
     "showTitle": true,
     "tableResultSettingsMap": {
      "0": {
       "dataGridStateBlob": "{\"version\":1,\"tableState\":{\"columnPinning\":{\"left\":[\"#row_number#\"],\"right\":[]},\"columnSizing\":{},\"columnVisibility\":{}},\"settings\":{\"columns\":{}},\"syncTimestamp\":1756394746410}",
       "filterBlob": "{\"version\":1,\"filterGroups\":[],\"syncTimestamp\":1756394794957}",
       "queryPlanFiltersBlob": "[]",
       "tableResultIndex": 0
      }
     },
     "title": "SELECT dim_start_station"
    }
   },
   "outputs": [],
   "source": [
    "-- Verificação da tabela criada\n",
    "SELECT *\n",
    "FROM workspace.portfolio_citybikes.dim_start_station"
   ]
  },
  {
   "cell_type": "code",
   "execution_count": 0,
   "metadata": {
    "application/vnd.databricks.v1+cell": {
     "cellMetadata": {
      "byteLimit": 2048000,
      "rowLimit": 10000
     },
     "inputWidgets": {},
     "nuid": "083a3b09-d0ad-467c-ab99-6372c57e3fc1",
     "showTitle": true,
     "tableResultSettingsMap": {
      "0": {
       "dataGridStateBlob": "{\"version\":1,\"tableState\":{\"columnPinning\":{\"left\":[\"#row_number#\"],\"right\":[]},\"columnSizing\":{\"comment\":255},\"columnVisibility\":{}},\"settings\":{\"columns\":{}},\"syncTimestamp\":1756395775952}",
       "filterBlob": null,
       "queryPlanFiltersBlob": null,
       "tableResultIndex": 0
      }
     },
     "title": "DESCRIBE dim_start_station"
    }
   },
   "outputs": [],
   "source": [
    "-- Verificação do data_type da tabela criada\n",
    "DESCRIBE TABLE workspace.portfolio_citybikes.dim_start_station"
   ]
  },
  {
   "cell_type": "code",
   "execution_count": 0,
   "metadata": {
    "application/vnd.databricks.v1+cell": {
     "cellMetadata": {
      "byteLimit": 2048000,
      "rowLimit": 10000
     },
     "inputWidgets": {},
     "nuid": "0644d888-9eeb-4bec-ad1f-fe68ac66d03b",
     "showTitle": true,
     "tableResultSettingsMap": {},
     "title": "CREATE dim_end_station"
    }
   },
   "outputs": [],
   "source": [
    "-- Criação de tabela de dimensão (estação final)\n",
    "CREATE OR REPLACE TABLE workspace.portfolio_citybikes.dim_end_station AS\n",
    "SELECT\n",
    "  ROW_NUMBER() OVER (ORDER BY end_station_name) AS end_station_id,\n",
    "  end_station_name\n",
    "FROM (SELECT DISTINCT end_station_name FROM workspace.portfolio_citybikes.tabela_fonte_consolidada)\n",
    "WHERE\n",
    "  end_station_name IS NOT NULL"
   ]
  },
  {
   "cell_type": "code",
   "execution_count": 0,
   "metadata": {
    "application/vnd.databricks.v1+cell": {
     "cellMetadata": {
      "byteLimit": 2048000,
      "rowLimit": 10000
     },
     "inputWidgets": {},
     "nuid": "5ac7bf04-bb8b-4f06-a8c7-ac46d1484a40",
     "showTitle": true,
     "tableResultSettingsMap": {},
     "title": "SELECT dim_end_station"
    }
   },
   "outputs": [],
   "source": [
    "-- Verificação da tabela criada\n",
    "SELECT *\n",
    "FROM workspace.portfolio_citybikes.dim_end_station"
   ]
  },
  {
   "cell_type": "code",
   "execution_count": 0,
   "metadata": {
    "application/vnd.databricks.v1+cell": {
     "cellMetadata": {
      "byteLimit": 2048000,
      "rowLimit": 10000
     },
     "inputWidgets": {},
     "nuid": "63b2c747-6a13-4d1e-b058-a4519af8647e",
     "showTitle": true,
     "tableResultSettingsMap": {
      "0": {
       "dataGridStateBlob": "{\"version\":1,\"tableState\":{\"columnPinning\":{\"left\":[\"#row_number#\"],\"right\":[]},\"columnSizing\":{\"comment\":199},\"columnVisibility\":{}},\"settings\":{\"columns\":{}},\"syncTimestamp\":1756404844695}",
       "filterBlob": null,
       "queryPlanFiltersBlob": null,
       "tableResultIndex": 0
      }
     },
     "title": "DESCRIBE dim_end_station"
    }
   },
   "outputs": [],
   "source": [
    "-- Verificação do data_type da tabela criada\n",
    "DESCRIBE TABLE workspace.portfolio_citybikes.dim_end_station"
   ]
  },
  {
   "cell_type": "code",
   "execution_count": 0,
   "metadata": {
    "application/vnd.databricks.v1+cell": {
     "cellMetadata": {
      "byteLimit": 2048000,
      "rowLimit": 10000
     },
     "inputWidgets": {},
     "nuid": "5e5f5b74-b830-43f9-97e0-37748530c4d8",
     "showTitle": true,
     "tableResultSettingsMap": {},
     "title": "CREATE dim_member_casual"
    }
   },
   "outputs": [],
   "source": [
    "-- Criação de tabela de dimensão (tipo de cliente)\n",
    "CREATE OR REPLACE TABLE workspace.portfolio_citybikes.dim_member_casual AS\n",
    "SELECT\n",
    "  ROW_NUMBER() OVER (ORDER BY member_casual) AS id_member_casual,\n",
    "  member_casual\n",
    "FROM\n",
    "  (SELECT DISTINCT member_casual FROM workspace.portfolio_citybikes.tabela_fonte_consolidada)"
   ]
  },
  {
   "cell_type": "code",
   "execution_count": 0,
   "metadata": {
    "application/vnd.databricks.v1+cell": {
     "cellMetadata": {
      "byteLimit": 2048000,
      "rowLimit": 10000
     },
     "inputWidgets": {},
     "nuid": "288e1a88-3256-4f3c-9ec7-53397671bf65",
     "showTitle": true,
     "tableResultSettingsMap": {},
     "title": "SELECT dim_member_casual"
    }
   },
   "outputs": [],
   "source": [
    "-- Verificação da tabela criada (dim_member_casual)\n",
    "SELECT *\n",
    "FROM workspace.portfolio_citybikes.dim_member_casual"
   ]
  },
  {
   "cell_type": "code",
   "execution_count": 0,
   "metadata": {
    "application/vnd.databricks.v1+cell": {
     "cellMetadata": {
      "byteLimit": 2048000,
      "rowLimit": 10000
     },
     "inputWidgets": {},
     "nuid": "897e6db6-ee5d-4233-bca5-2deb08c2453d",
     "showTitle": true,
     "tableResultSettingsMap": {},
     "title": "CREATE fact_rides"
    }
   },
   "outputs": [],
   "source": [
    "-- Criação da fact table\n",
    "  CREATE OR REPLACE TABLE workspace.portfolio_citybikes.fact_rides AS\n",
    "  SELECT\n",
    "    l.ride_id,\n",
    "    l.start_lat,\n",
    "    l.start_lng,\n",
    "    l.end_lat,\n",
    "    l.end_lng,\n",
    "    l.started_at,\n",
    "    l.ended_at,\n",
    "    -- Criação da coluna de duração da locação (em segundos)\n",
    "      TIMESTAMPDIFF(SECOND, l.started_at, l.ended_at) AS duracao_locacao,\n",
    "    -- Criação da coluna de dia da semana de retirada\n",
    "      WEEKDAY(l.started_at) AS dia_semana_retirada,\n",
    "    -- Criação da coluna de dia da semana de devolução\n",
    "      WEEKDAY(l.ended_at) AS dia_semana_devolucao,\n",
    "    -- Criação da coluna de hora de retirada\n",
    "      HOUR(l.started_at) AS hora_retirada,\n",
    "    -- Criação da coluna de hora de devolução\n",
    "      HOUR(l.ended_at) AS hora_devolucao,  \n",
    "    r1.id_rideable_type AS rideable_type_fk,\n",
    "    r2.id_member_casual AS member_casual_fk,\n",
    "    r3.start_station_id AS start_station_fk,\n",
    "    r4.end_station_id AS end_station_fk\n",
    "  FROM workspace.portfolio_citybikes.tabela_fonte_consolidada AS l\n",
    "  LEFT JOIN workspace.portfolio_citybikes.dim_rideable_type AS r1\n",
    "    ON l.rideable_type = r1.rideable_type\n",
    "  LEFT JOIN workspace.portfolio_citybikes.dim_member_casual AS r2\n",
    "    ON l.member_casual = r2.member_casual\n",
    "  LEFT JOIN workspace.portfolio_citybikes.dim_start_station AS r3\n",
    "    ON l.start_station_name = r3.start_station_name\n",
    "  LEFT JOIN workspace.portfolio_citybikes.dim_end_station AS r4\n",
    "    ON l.end_station_name = r4.end_station_name\n",
    "  -- Excluindo valores negativos da duração da locação, em ocorrências onde ended_at é menor que started_at\n",
    "    WHERE TIMESTAMPDIFF(SECOND, l.started_at, l.ended_at) > 0"
   ]
  },
  {
   "cell_type": "code",
   "execution_count": 0,
   "metadata": {
    "application/vnd.databricks.v1+cell": {
     "cellMetadata": {
      "byteLimit": 2048000,
      "rowLimit": 10000
     },
     "inputWidgets": {},
     "nuid": "f1b90184-4bed-4755-9788-4da405ffe1e7",
     "showTitle": true,
     "tableResultSettingsMap": {
      "0": {
       "dataGridStateBlob": "{\"version\":1,\"tableState\":{\"columnPinning\":{\"left\":[\"#row_number#\"],\"right\":[]},\"columnSizing\":{},\"columnVisibility\":{}},\"settings\":{\"columns\":{}},\"syncTimestamp\":1756758382566}",
       "filterBlob": null,
       "queryPlanFiltersBlob": null,
       "tableResultIndex": 0
      }
     },
     "title": "SELECT fact_rides"
    }
   },
   "outputs": [],
   "source": [
    "-- Verificação da tabela criada\n",
    "SELECT *\n",
    "FROM workspace.portfolio_citybikes.fact_rides"
   ]
  },
  {
   "cell_type": "code",
   "execution_count": 0,
   "metadata": {
    "application/vnd.databricks.v1+cell": {
     "cellMetadata": {
      "byteLimit": 2048000,
      "rowLimit": 10000
     },
     "inputWidgets": {},
     "nuid": "c7f64734-6039-4afe-8fa1-0efbee3f4321",
     "showTitle": true,
     "tableResultSettingsMap": {},
     "title": "ALTER COLUMN fact_rides"
    }
   },
   "outputs": [],
   "source": [
    "-- Alterando comentário da coluna para informar que a duração da locação está em segundos\n",
    "ALTER TABLE workspace.portfolio_citybikes.fact_rides\n",
    "ALTER COLUMN duracao_locacao COMMENT 'Duração da locação em segundos'"
   ]
  },
  {
   "cell_type": "code",
   "execution_count": 0,
   "metadata": {
    "application/vnd.databricks.v1+cell": {
     "cellMetadata": {
      "byteLimit": 2048000,
      "rowLimit": 10000
     },
     "inputWidgets": {},
     "nuid": "03199926-ec9b-4351-a1f8-da8aa56dc29e",
     "showTitle": true,
     "tableResultSettingsMap": {
      "0": {
       "dataGridStateBlob": "{\"version\":1,\"tableState\":{\"columnPinning\":{\"left\":[\"#row_number#\"],\"right\":[]},\"columnSizing\":{\"col_name\":136,\"comment\":269},\"columnVisibility\":{}},\"settings\":{\"columns\":{}},\"syncTimestamp\":1756417776071}",
       "filterBlob": null,
       "queryPlanFiltersBlob": null,
       "tableResultIndex": 0
      }
     },
     "title": "DESCRIBE fact_rides"
    }
   },
   "outputs": [],
   "source": [
    "-- Verificação do data_type da tabela criada\n",
    "DESCRIBE TABLE workspace.portfolio_citybikes.fact_rides"
   ]
  }
 ],
 "metadata": {
  "application/vnd.databricks.v1+notebook": {
   "computePreferences": {
    "hardware": {
     "accelerator": null,
     "gpuPoolId": null,
     "memory": null
    }
   },
   "dashboards": [],
   "environmentMetadata": {
    "base_environment": "",
    "environment_version": "3"
   },
   "inputWidgetPreferences": null,
   "language": "sql",
   "notebookMetadata": {
    "pythonIndentUnit": 4
   },
   "notebookName": "data_wrangling_modelling",
   "widgets": {}
  },
  "language_info": {
   "name": "sql"
  }
 },
 "nbformat": 4,
 "nbformat_minor": 0
}
